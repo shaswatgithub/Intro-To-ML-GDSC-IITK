{
 "cells": [
  {
   "cell_type": "code",
   "execution_count": null,
   "id": "5b1fe839",
   "metadata": {
    "papermill": {
     "duration": 0.008712,
     "end_time": "2023-12-31T17:00:38.177435",
     "exception": false,
     "start_time": "2023-12-31T17:00:38.168723",
     "status": "completed"
    },
    "tags": []
   },
   "outputs": [],
   "source": []
  },
  {
   "cell_type": "markdown",
   "id": "ee1e1558",
   "metadata": {
    "papermill": {
     "duration": 0.007696,
     "end_time": "2023-12-31T17:00:38.195339",
     "exception": false,
     "start_time": "2023-12-31T17:00:38.187643",
     "status": "completed"
    },
    "tags": []
   },
   "source": [
    "**This notebook is an exercise in the [Feature Engineering](https://www.kaggle.com/learn/feature-engineering) course.  You can reference the tutorial at [this link](https://www.kaggle.com/ryanholbrook/creating-features).**\n",
    "\n",
    "---\n"
   ]
  },
  {
   "cell_type": "markdown",
   "id": "320805bc",
   "metadata": {
    "papermill": {
     "duration": 0.007571,
     "end_time": "2023-12-31T17:00:38.211066",
     "exception": false,
     "start_time": "2023-12-31T17:00:38.203495",
     "status": "completed"
    },
    "tags": []
   },
   "source": [
    "# Introduction #\n",
    "\n",
    "In this exercise you'll start developing the features you identified in Exercise 2 as having the most potential. As you work through this exercise, you might take a moment to look at the data documentation again and consider whether the features we're creating make sense from a real-world perspective, and whether there are any useful combinations that stand out to you.\n",
    "\n",
    "Run this cell to set everything up!"
   ]
  },
  {
   "cell_type": "code",
   "execution_count": 1,
   "id": "b940e0a7",
   "metadata": {
    "execution": {
     "iopub.execute_input": "2023-12-31T17:00:38.230144Z",
     "iopub.status.busy": "2023-12-31T17:00:38.229301Z",
     "iopub.status.idle": "2023-12-31T17:00:40.371113Z",
     "shell.execute_reply": "2023-12-31T17:00:40.369632Z"
    },
    "papermill": {
     "duration": 2.154953,
     "end_time": "2023-12-31T17:00:40.374312",
     "exception": false,
     "start_time": "2023-12-31T17:00:38.219359",
     "status": "completed"
    },
    "tags": []
   },
   "outputs": [],
   "source": [
    "# Setup feedback system\n",
    "from learntools.core import binder\n",
    "binder.bind(globals())\n",
    "from learntools.feature_engineering_new.ex3 import *\n",
    "\n",
    "import numpy as np\n",
    "import pandas as pd\n",
    "from sklearn.model_selection import cross_val_score\n",
    "from xgboost import XGBRegressor\n",
    "\n",
    "\n",
    "def score_dataset(X, y, model=XGBRegressor()):\n",
    "    # Label encoding for categoricals\n",
    "    for colname in X.select_dtypes([\"category\", \"object\"]):\n",
    "        X[colname], _ = X[colname].factorize()\n",
    "    # Metric for Housing competition is RMSLE (Root Mean Squared Log Error)\n",
    "    score = cross_val_score(\n",
    "        model, X, y, cv=5, scoring=\"neg_mean_squared_log_error\",\n",
    "    )\n",
    "    score = -1 * score.mean()\n",
    "    score = np.sqrt(score)\n",
    "    return score\n",
    "\n",
    "\n",
    "# Prepare data\n",
    "df = pd.read_csv(\"../input/fe-course-data/ames.csv\")\n",
    "X = df.copy()\n",
    "y = X.pop(\"SalePrice\")"
   ]
  },
  {
   "cell_type": "markdown",
   "id": "2b0c2992",
   "metadata": {
    "papermill": {
     "duration": 0.007451,
     "end_time": "2023-12-31T17:00:40.389861",
     "exception": false,
     "start_time": "2023-12-31T17:00:40.382410",
     "status": "completed"
    },
    "tags": []
   },
   "source": [
    "-------------------------------------------------------------------------------\n",
    "\n",
    "Let's start with a few mathematical combinations. We'll focus on features describing areas -- having the same units (square-feet) makes it easy to combine them in sensible ways. Since we're using XGBoost (a tree-based model), we'll focus on ratios and sums.\n",
    "\n",
    "# 1) Create Mathematical Transforms\n",
    "\n",
    "Create the following features:\n",
    "\n",
    "- `LivLotRatio`: the ratio of `GrLivArea` to `LotArea`\n",
    "- `Spaciousness`: the sum of `FirstFlrSF` and `SecondFlrSF` divided by `TotRmsAbvGrd`\n",
    "- `TotalOutsideSF`: the sum of `WoodDeckSF`, `OpenPorchSF`, `EnclosedPorch`, `Threeseasonporch`, and `ScreenPorch`"
   ]
  },
  {
   "cell_type": "code",
   "execution_count": 2,
   "id": "016520ab",
   "metadata": {
    "execution": {
     "iopub.execute_input": "2023-12-31T17:00:40.407529Z",
     "iopub.status.busy": "2023-12-31T17:00:40.406961Z",
     "iopub.status.idle": "2023-12-31T17:00:40.436848Z",
     "shell.execute_reply": "2023-12-31T17:00:40.435687Z"
    },
    "lines_to_next_cell": 0,
    "papermill": {
     "duration": 0.041797,
     "end_time": "2023-12-31T17:00:40.439337",
     "exception": false,
     "start_time": "2023-12-31T17:00:40.397540",
     "status": "completed"
    },
    "tags": []
   },
   "outputs": [
    {
     "data": {
      "application/javascript": "parent.postMessage({\"jupyterEvent\": \"custom.exercise_interaction\", \"data\": {\"outcomeType\": 1, \"valueTowardsCompletion\": 0.2, \"interactionType\": 1, \"questionType\": 2, \"questionId\": \"1_Q1\", \"learnToolsVersion\": \"0.3.4\", \"failureMessage\": \"\", \"exceptionClass\": \"\", \"trace\": \"\"}}, \"*\")",
      "text/plain": [
       "<IPython.core.display.Javascript object>"
      ]
     },
     "metadata": {},
     "output_type": "display_data"
    },
    {
     "data": {
      "text/markdown": [
       "<span style=\"color:#33cc33\">Correct</span>"
      ],
      "text/plain": [
       "Correct"
      ]
     },
     "metadata": {},
     "output_type": "display_data"
    }
   ],
   "source": [
    "# YOUR CODE HERE\n",
    "porch_columns = [\"WoodDeckSF\", \"OpenPorchSF\", \"EnclosedPorch\", \"Threeseasonporch\", \"ScreenPorch\"]\n",
    "X_1 = pd.DataFrame()  # dataframe to hold new features\n",
    "\n",
    "X_1[\"LivLotRatio\"] = df[\"GrLivArea\"] / df[\"LotArea\"]\n",
    "X_1[\"Spaciousness\"] = (df[\"FirstFlrSF\"] + df[\"SecondFlrSF\"]) / df[\"TotRmsAbvGrd\"]\n",
    "\n",
    "X_1[\"TotalOutsideSF\"] = df[porch_columns].sum(axis=1)\n",
    "\n",
    "\n",
    "\n",
    "# Check your answer\n",
    "q_1.check()"
   ]
  },
  {
   "cell_type": "code",
   "execution_count": 3,
   "id": "3e8f8d97",
   "metadata": {
    "execution": {
     "iopub.execute_input": "2023-12-31T17:00:40.457828Z",
     "iopub.status.busy": "2023-12-31T17:00:40.457348Z",
     "iopub.status.idle": "2023-12-31T17:00:40.462787Z",
     "shell.execute_reply": "2023-12-31T17:00:40.461478Z"
    },
    "lines_to_next_cell": 0,
    "papermill": {
     "duration": 0.017829,
     "end_time": "2023-12-31T17:00:40.465291",
     "exception": false,
     "start_time": "2023-12-31T17:00:40.447462",
     "status": "completed"
    },
    "tags": []
   },
   "outputs": [],
   "source": [
    "# Lines below will give you a hint or solution code\n",
    "#q_1.hint()\n",
    "#q_1.solution()"
   ]
  },
  {
   "cell_type": "markdown",
   "id": "460c0015",
   "metadata": {
    "papermill": {
     "duration": 0.007871,
     "end_time": "2023-12-31T17:00:40.481539",
     "exception": false,
     "start_time": "2023-12-31T17:00:40.473668",
     "status": "completed"
    },
    "tags": []
   },
   "source": [
    "-------------------------------------------------------------------------------\n",
    "\n",
    "If you've discovered an interaction effect between a numeric feature and a categorical feature, you might want to model it explicitly using a one-hot encoding, like so:\n",
    "\n",
    "```\n",
    "# One-hot encode Categorical feature, adding a column prefix \"Cat\"\n",
    "X_new = pd.get_dummies(df.Categorical, prefix=\"Cat\")\n",
    "\n",
    "# Multiply row-by-row\n",
    "X_new = X_new.mul(df.Continuous, axis=0)\n",
    "\n",
    "# Join the new features to the feature set\n",
    "X = X.join(X_new)\n",
    "```\n",
    "\n",
    "# 2) Interaction with a Categorical\n",
    "\n",
    "We discovered an interaction between `BldgType` and `GrLivArea` in Exercise 2. Now create their interaction features."
   ]
  },
  {
   "cell_type": "code",
   "execution_count": 4,
   "id": "e02d8a46",
   "metadata": {
    "execution": {
     "iopub.execute_input": "2023-12-31T17:00:40.499857Z",
     "iopub.status.busy": "2023-12-31T17:00:40.499409Z",
     "iopub.status.idle": "2023-12-31T17:00:40.519665Z",
     "shell.execute_reply": "2023-12-31T17:00:40.518458Z"
    },
    "lines_to_next_cell": 0,
    "papermill": {
     "duration": 0.03248,
     "end_time": "2023-12-31T17:00:40.522099",
     "exception": false,
     "start_time": "2023-12-31T17:00:40.489619",
     "status": "completed"
    },
    "tags": []
   },
   "outputs": [
    {
     "data": {
      "application/javascript": "parent.postMessage({\"jupyterEvent\": \"custom.exercise_interaction\", \"data\": {\"outcomeType\": 1, \"valueTowardsCompletion\": 0.2, \"interactionType\": 1, \"questionType\": 2, \"questionId\": \"2_Q2\", \"learnToolsVersion\": \"0.3.4\", \"failureMessage\": \"\", \"exceptionClass\": \"\", \"trace\": \"\"}}, \"*\")",
      "text/plain": [
       "<IPython.core.display.Javascript object>"
      ]
     },
     "metadata": {},
     "output_type": "display_data"
    },
    {
     "data": {
      "text/markdown": [
       "<span style=\"color:#33cc33\">Correct</span>"
      ],
      "text/plain": [
       "Correct"
      ]
     },
     "metadata": {},
     "output_type": "display_data"
    }
   ],
   "source": [
    "# YOUR CODE HERE\n",
    "# One-hot encode BldgType. Use `prefix=\"Bldg\"` in `get_dummies`\n",
    "X_2 = pd.get_dummies(df[\"BldgType\"], prefix=\"Bldg\")\n",
    "# Multiply\n",
    "X_2 = X_2.mul(df[\"GrLivArea\"], axis=0)\n",
    "\n",
    "\n",
    "# Check your answer\n",
    "q_2.check()"
   ]
  },
  {
   "cell_type": "code",
   "execution_count": 5,
   "id": "29667b74",
   "metadata": {
    "execution": {
     "iopub.execute_input": "2023-12-31T17:00:40.541281Z",
     "iopub.status.busy": "2023-12-31T17:00:40.540795Z",
     "iopub.status.idle": "2023-12-31T17:00:40.545440Z",
     "shell.execute_reply": "2023-12-31T17:00:40.544568Z"
    },
    "lines_to_next_cell": 0,
    "papermill": {
     "duration": 0.017083,
     "end_time": "2023-12-31T17:00:40.547799",
     "exception": false,
     "start_time": "2023-12-31T17:00:40.530716",
     "status": "completed"
    },
    "tags": []
   },
   "outputs": [],
   "source": [
    "# Lines below will give you a hint or solution code\n",
    "#q_2.hint()\n",
    "#q_2.solution()"
   ]
  },
  {
   "cell_type": "markdown",
   "id": "691e6d2f",
   "metadata": {
    "lines_to_next_cell": 0,
    "papermill": {
     "duration": 0.008226,
     "end_time": "2023-12-31T17:00:40.564484",
     "exception": false,
     "start_time": "2023-12-31T17:00:40.556258",
     "status": "completed"
    },
    "tags": []
   },
   "source": [
    "# 3) Count Feature\n",
    "\n",
    "Let's try creating a feature that describes how many kinds of outdoor areas a dwelling has. Create a feature `PorchTypes` that counts how many of the following are greater than 0.0:\n",
    "\n",
    "```\n",
    "WoodDeckSF\n",
    "OpenPorchSF\n",
    "EnclosedPorch\n",
    "Threeseasonporch\n",
    "ScreenPorch\n",
    "```"
   ]
  },
  {
   "cell_type": "code",
   "execution_count": 6,
   "id": "4bcdbaaf",
   "metadata": {
    "execution": {
     "iopub.execute_input": "2023-12-31T17:00:40.584482Z",
     "iopub.status.busy": "2023-12-31T17:00:40.583230Z",
     "iopub.status.idle": "2023-12-31T17:00:40.603192Z",
     "shell.execute_reply": "2023-12-31T17:00:40.602396Z"
    },
    "lines_to_next_cell": 0,
    "papermill": {
     "duration": 0.032498,
     "end_time": "2023-12-31T17:00:40.605421",
     "exception": false,
     "start_time": "2023-12-31T17:00:40.572923",
     "status": "completed"
    },
    "tags": []
   },
   "outputs": [
    {
     "data": {
      "application/javascript": "parent.postMessage({\"jupyterEvent\": \"custom.exercise_interaction\", \"data\": {\"outcomeType\": 1, \"valueTowardsCompletion\": 0.2, \"interactionType\": 1, \"questionType\": 2, \"questionId\": \"3_Q3\", \"learnToolsVersion\": \"0.3.4\", \"failureMessage\": \"\", \"exceptionClass\": \"\", \"trace\": \"\"}}, \"*\")",
      "text/plain": [
       "<IPython.core.display.Javascript object>"
      ]
     },
     "metadata": {},
     "output_type": "display_data"
    },
    {
     "data": {
      "text/markdown": [
       "<span style=\"color:#33cc33\">Correct</span>"
      ],
      "text/plain": [
       "Correct"
      ]
     },
     "metadata": {},
     "output_type": "display_data"
    }
   ],
   "source": [
    "X_3 = pd.DataFrame()\n",
    "\n",
    "# YOUR CODE HERE\n",
    "porch_types_columns = [\"WoodDeckSF\", \"OpenPorchSF\", \"EnclosedPorch\", \"Threeseasonporch\", \"ScreenPorch\"]\n",
    "X_3 = pd.DataFrame()\n",
    "X_3[\"PorchTypes\"] = (df[porch_types_columns] > 0).sum(axis=1)\n",
    "\n",
    "\n",
    "# Check your answer\n",
    "q_3.check()"
   ]
  },
  {
   "cell_type": "code",
   "execution_count": 7,
   "id": "4b24a301",
   "metadata": {
    "execution": {
     "iopub.execute_input": "2023-12-31T17:00:40.624965Z",
     "iopub.status.busy": "2023-12-31T17:00:40.624522Z",
     "iopub.status.idle": "2023-12-31T17:00:40.628300Z",
     "shell.execute_reply": "2023-12-31T17:00:40.627462Z"
    },
    "lines_to_next_cell": 0,
    "papermill": {
     "duration": 0.016303,
     "end_time": "2023-12-31T17:00:40.630452",
     "exception": false,
     "start_time": "2023-12-31T17:00:40.614149",
     "status": "completed"
    },
    "tags": []
   },
   "outputs": [],
   "source": [
    "# Lines below will give you a hint or solution code\n",
    "#q_3.hint()\n",
    "#q_3.solution()"
   ]
  },
  {
   "cell_type": "markdown",
   "id": "9411b705",
   "metadata": {
    "papermill": {
     "duration": 0.008616,
     "end_time": "2023-12-31T17:00:40.647652",
     "exception": false,
     "start_time": "2023-12-31T17:00:40.639036",
     "status": "completed"
    },
    "tags": []
   },
   "source": [
    "# 4) Break Down a Categorical Feature\n",
    "\n",
    "`MSSubClass` describes the type of a dwelling:"
   ]
  },
  {
   "cell_type": "code",
   "execution_count": 8,
   "id": "626c2ce2",
   "metadata": {
    "execution": {
     "iopub.execute_input": "2023-12-31T17:00:40.666906Z",
     "iopub.status.busy": "2023-12-31T17:00:40.666240Z",
     "iopub.status.idle": "2023-12-31T17:00:40.674360Z",
     "shell.execute_reply": "2023-12-31T17:00:40.673584Z"
    },
    "papermill": {
     "duration": 0.020384,
     "end_time": "2023-12-31T17:00:40.676370",
     "exception": false,
     "start_time": "2023-12-31T17:00:40.655986",
     "status": "completed"
    },
    "tags": []
   },
   "outputs": [
    {
     "data": {
      "text/plain": [
       "array(['One_Story_1946_and_Newer_All_Styles', 'Two_Story_1946_and_Newer',\n",
       "       'One_Story_PUD_1946_and_Newer',\n",
       "       'One_and_Half_Story_Finished_All_Ages', 'Split_Foyer',\n",
       "       'Two_Story_PUD_1946_and_Newer', 'Split_or_Multilevel',\n",
       "       'One_Story_1945_and_Older', 'Duplex_All_Styles_and_Ages',\n",
       "       'Two_Family_conversion_All_Styles_and_Ages',\n",
       "       'One_and_Half_Story_Unfinished_All_Ages',\n",
       "       'Two_Story_1945_and_Older', 'Two_and_Half_Story_All_Ages',\n",
       "       'One_Story_with_Finished_Attic_All_Ages',\n",
       "       'PUD_Multilevel_Split_Level_Foyer',\n",
       "       'One_and_Half_Story_PUD_All_Ages'], dtype=object)"
      ]
     },
     "execution_count": 8,
     "metadata": {},
     "output_type": "execute_result"
    }
   ],
   "source": [
    "df.MSSubClass.unique()"
   ]
  },
  {
   "cell_type": "markdown",
   "id": "0443facb",
   "metadata": {
    "papermill": {
     "duration": 0.008372,
     "end_time": "2023-12-31T17:00:40.693282",
     "exception": false,
     "start_time": "2023-12-31T17:00:40.684910",
     "status": "completed"
    },
    "tags": []
   },
   "source": [
    "You can see that there is a more general categorization described (roughly) by the first word of each category. Create a feature containing only these first words by splitting `MSSubClass` at the first underscore `_`. (Hint: In the `split` method use an argument `n=1`.)"
   ]
  },
  {
   "cell_type": "code",
   "execution_count": 9,
   "id": "4138727e",
   "metadata": {
    "execution": {
     "iopub.execute_input": "2023-12-31T17:00:40.713150Z",
     "iopub.status.busy": "2023-12-31T17:00:40.712400Z",
     "iopub.status.idle": "2023-12-31T17:00:40.738374Z",
     "shell.execute_reply": "2023-12-31T17:00:40.737525Z"
    },
    "lines_to_next_cell": 0,
    "papermill": {
     "duration": 0.039265,
     "end_time": "2023-12-31T17:00:40.740996",
     "exception": false,
     "start_time": "2023-12-31T17:00:40.701731",
     "status": "completed"
    },
    "tags": []
   },
   "outputs": [
    {
     "data": {
      "application/javascript": "parent.postMessage({\"jupyterEvent\": \"custom.exercise_interaction\", \"data\": {\"outcomeType\": 1, \"valueTowardsCompletion\": 0.2, \"interactionType\": 1, \"questionType\": 2, \"questionId\": \"4_Q4\", \"learnToolsVersion\": \"0.3.4\", \"failureMessage\": \"\", \"exceptionClass\": \"\", \"trace\": \"\"}}, \"*\")",
      "text/plain": [
       "<IPython.core.display.Javascript object>"
      ]
     },
     "metadata": {},
     "output_type": "display_data"
    },
    {
     "data": {
      "text/markdown": [
       "<span style=\"color:#33cc33\">Correct</span>"
      ],
      "text/plain": [
       "Correct"
      ]
     },
     "metadata": {},
     "output_type": "display_data"
    }
   ],
   "source": [
    "X_4 = pd.DataFrame()\n",
    "\n",
    "# YOUR CODE HERE\n",
    "X_4[\"MSClass\"] = df[\"MSSubClass\"].str.split(\"_\", n=1).str[0]\n",
    "\n",
    "\n",
    "# Check your answer\n",
    "q_4.check()"
   ]
  },
  {
   "cell_type": "code",
   "execution_count": 10,
   "id": "acae335d",
   "metadata": {
    "execution": {
     "iopub.execute_input": "2023-12-31T17:00:40.761943Z",
     "iopub.status.busy": "2023-12-31T17:00:40.761328Z",
     "iopub.status.idle": "2023-12-31T17:00:40.765073Z",
     "shell.execute_reply": "2023-12-31T17:00:40.764317Z"
    },
    "lines_to_next_cell": 0,
    "papermill": {
     "duration": 0.016808,
     "end_time": "2023-12-31T17:00:40.766970",
     "exception": false,
     "start_time": "2023-12-31T17:00:40.750162",
     "status": "completed"
    },
    "tags": []
   },
   "outputs": [],
   "source": [
    "# Lines below will give you a hint or solution code\n",
    "#q_4.hint()\n",
    "#q_4.solution()"
   ]
  },
  {
   "cell_type": "markdown",
   "id": "2aa8a70f",
   "metadata": {
    "papermill": {
     "duration": 0.008519,
     "end_time": "2023-12-31T17:00:40.784345",
     "exception": false,
     "start_time": "2023-12-31T17:00:40.775826",
     "status": "completed"
    },
    "tags": []
   },
   "source": [
    "# 5) Use a Grouped Transform\n",
    "\n",
    "The value of a home often depends on how it compares to typical homes in its neighborhood. Create a feature `MedNhbdArea` that describes the *median* of `GrLivArea` grouped on `Neighborhood`."
   ]
  },
  {
   "cell_type": "code",
   "execution_count": 11,
   "id": "1ee808d9",
   "metadata": {
    "execution": {
     "iopub.execute_input": "2023-12-31T17:00:40.804918Z",
     "iopub.status.busy": "2023-12-31T17:00:40.804234Z",
     "iopub.status.idle": "2023-12-31T17:00:40.822820Z",
     "shell.execute_reply": "2023-12-31T17:00:40.821598Z"
    },
    "lines_to_next_cell": 0,
    "papermill": {
     "duration": 0.031938,
     "end_time": "2023-12-31T17:00:40.825191",
     "exception": false,
     "start_time": "2023-12-31T17:00:40.793253",
     "status": "completed"
    },
    "tags": []
   },
   "outputs": [
    {
     "data": {
      "application/javascript": "parent.postMessage({\"jupyterEvent\": \"custom.exercise_interaction\", \"data\": {\"outcomeType\": 1, \"valueTowardsCompletion\": 0.2, \"interactionType\": 1, \"questionType\": 2, \"questionId\": \"5_Q5\", \"learnToolsVersion\": \"0.3.4\", \"failureMessage\": \"\", \"exceptionClass\": \"\", \"trace\": \"\"}}, \"*\")",
      "text/plain": [
       "<IPython.core.display.Javascript object>"
      ]
     },
     "metadata": {},
     "output_type": "display_data"
    },
    {
     "data": {
      "text/markdown": [
       "<span style=\"color:#33cc33\">Correct</span>"
      ],
      "text/plain": [
       "Correct"
      ]
     },
     "metadata": {},
     "output_type": "display_data"
    }
   ],
   "source": [
    "X_5 = pd.DataFrame()\n",
    "\n",
    "# YOUR CODE HERE\n",
    "X_5[\"MedNhbdArea\"] = df.groupby(\"Neighborhood\")[\"GrLivArea\"].transform(\"median\")\n",
    "\n",
    "\n",
    "# Check your answer\n",
    "q_5.check()"
   ]
  },
  {
   "cell_type": "code",
   "execution_count": 12,
   "id": "5c99f727",
   "metadata": {
    "execution": {
     "iopub.execute_input": "2023-12-31T17:00:40.846197Z",
     "iopub.status.busy": "2023-12-31T17:00:40.845744Z",
     "iopub.status.idle": "2023-12-31T17:00:40.850026Z",
     "shell.execute_reply": "2023-12-31T17:00:40.848987Z"
    },
    "lines_to_next_cell": 0,
    "papermill": {
     "duration": 0.01748,
     "end_time": "2023-12-31T17:00:40.852102",
     "exception": false,
     "start_time": "2023-12-31T17:00:40.834622",
     "status": "completed"
    },
    "tags": []
   },
   "outputs": [],
   "source": [
    "# Lines below will give you a hint or solution code\n",
    "#q_5.hint()\n",
    "#q_5.solution()"
   ]
  },
  {
   "cell_type": "markdown",
   "id": "6e408e38",
   "metadata": {
    "papermill": {
     "duration": 0.009466,
     "end_time": "2023-12-31T17:00:40.871019",
     "exception": false,
     "start_time": "2023-12-31T17:00:40.861553",
     "status": "completed"
    },
    "tags": []
   },
   "source": [
    "Now you've made your first new feature set! If you like, you can run the cell below to score the model with all of your new features added:"
   ]
  },
  {
   "cell_type": "code",
   "execution_count": 13,
   "id": "c59cdec7",
   "metadata": {
    "execution": {
     "iopub.execute_input": "2023-12-31T17:00:40.893069Z",
     "iopub.status.busy": "2023-12-31T17:00:40.891632Z",
     "iopub.status.idle": "2023-12-31T17:00:43.812962Z",
     "shell.execute_reply": "2023-12-31T17:00:43.811970Z"
    },
    "papermill": {
     "duration": 2.935154,
     "end_time": "2023-12-31T17:00:43.815781",
     "exception": false,
     "start_time": "2023-12-31T17:00:40.880627",
     "status": "completed"
    },
    "tags": []
   },
   "outputs": [
    {
     "data": {
      "text/plain": [
       "0.13954039591355258"
      ]
     },
     "execution_count": 13,
     "metadata": {},
     "output_type": "execute_result"
    }
   ],
   "source": [
    "X_new = X.join([X_1, X_2, X_3, X_4, X_5])\n",
    "score_dataset(X_new, y)"
   ]
  },
  {
   "cell_type": "markdown",
   "id": "d9ade244",
   "metadata": {
    "papermill": {
     "duration": 0.012506,
     "end_time": "2023-12-31T17:00:43.839654",
     "exception": false,
     "start_time": "2023-12-31T17:00:43.827148",
     "status": "completed"
    },
    "tags": []
   },
   "source": [
    "# Keep Going #\n",
    "\n",
    "[**Untangle spatial relationships**](https://www.kaggle.com/ryanholbrook/clustering-with-k-means) by adding cluster labels to your dataset."
   ]
  },
  {
   "cell_type": "markdown",
   "id": "16eb10b0",
   "metadata": {
    "papermill": {
     "duration": 0.010557,
     "end_time": "2023-12-31T17:00:43.865771",
     "exception": false,
     "start_time": "2023-12-31T17:00:43.855214",
     "status": "completed"
    },
    "tags": []
   },
   "source": [
    "---\n",
    "\n",
    "\n",
    "\n",
    "\n",
    "*Have questions or comments? Visit the [course discussion forum](https://www.kaggle.com/learn/feature-engineering/discussion) to chat with other learners.*"
   ]
  }
 ],
 "metadata": {
  "jupytext": {
   "cell_metadata_filter": "-all",
   "formats": "ipynb"
  },
  "kaggle": {
   "accelerator": "none",
   "dataSources": [
    {
     "datasetId": 933090,
     "sourceId": 1828856,
     "sourceType": "datasetVersion"
    }
   ],
   "isGpuEnabled": false,
   "isInternetEnabled": false,
   "language": "python",
   "sourceType": "notebook"
  },
  "kernelspec": {
   "display_name": "Python 3",
   "language": "python",
   "name": "python3"
  },
  "language_info": {
   "codemirror_mode": {
    "name": "ipython",
    "version": 3
   },
   "file_extension": ".py",
   "mimetype": "text/x-python",
   "name": "python",
   "nbconvert_exporter": "python",
   "pygments_lexer": "ipython3",
   "version": "3.10.12"
  },
  "papermill": {
   "default_parameters": {},
   "duration": 10.060403,
   "end_time": "2023-12-31T17:00:44.702346",
   "environment_variables": {},
   "exception": null,
   "input_path": "__notebook__.ipynb",
   "output_path": "__notebook__.ipynb",
   "parameters": {},
   "start_time": "2023-12-31T17:00:34.641943",
   "version": "2.4.0"
  }
 },
 "nbformat": 4,
 "nbformat_minor": 5
}
